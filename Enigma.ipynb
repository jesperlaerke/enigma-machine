{
 "cells": [
  {
   "cell_type": "code",
   "execution_count": 1,
   "metadata": {},
   "outputs": [],
   "source": [
    "import string\n",
    "import numpy as np"
   ]
  },
  {
   "cell_type": "code",
   "execution_count": 4,
   "metadata": {},
   "outputs": [],
   "source": [
    "alphabet = string.ascii_lowercase\n",
    "\n",
    "# Reflectors to choose from\n",
    "R1 = 'ejmzalyxvbwfcrquontspikhgd'\n",
    "R2 = 'yruhqsldpxngokmiebfzcwvjat'\n",
    "R3 = 'fvpjiaoyedrzxwgctkuqsbnmhl'\n",
    "\n",
    "# Rotors to choose from\n",
    "I = 'ekmflgdqvzntowyhxuspaibrcj'\n",
    "II = 'ajdksiruxblhwtmcqgznpyfvoe'\n",
    "III = 'bdfhjlcprtxvznyeiwgakmusqo'\n",
    "IV = 'esovpzjayquirhxlnftgkdcmwb'\n",
    "V = 'vzbrgityupsdnhlxawmjqofeck'\n",
    "\n",
    "\n",
    "plugs = ['DTGRXF', 'APQLNB']\n",
    "rotors = [III, II, IV, R3]\n",
    "rotor_positions = [0,11,9]\n",
    "ring_settings = [3,8,0]"
   ]
  },
  {
   "cell_type": "code",
   "execution_count": 5,
   "metadata": {},
   "outputs": [
    {
     "name": "stdout",
     "output_type": "stream",
     "text": [
      "('a', 'v')\n",
      "('b', 'z')\n",
      "('c', 'b')\n",
      "('d', 'r')\n",
      "('e', 'g')\n",
      "('f', 'i')\n",
      "('g', 't')\n",
      "('h', 'y')\n",
      "('i', 'u')\n",
      "('j', 'p')\n",
      "('k', 's')\n",
      "('l', 'd')\n",
      "('m', 'n')\n",
      "('n', 'h')\n",
      "('o', 'l')\n",
      "('p', 'x')\n",
      "('q', 'a')\n",
      "('r', 'w')\n",
      "('s', 'm')\n",
      "('t', 'j')\n",
      "('u', 'q')\n",
      "('v', 'o')\n",
      "('w', 'f')\n",
      "('x', 'e')\n",
      "('y', 'c')\n",
      "('z', 'k')\n"
     ]
    }
   ],
   "source": [
    "rotor_map = {}\n",
    "\n",
    "for a, b in zip(alphabet, V):\n",
    "    rotor_map[a] = b\n",
    "    \n",
    "for row in rotor_map.items():\n",
    "    print (row)"
   ]
  },
  {
   "cell_type": "code",
   "execution_count": 6,
   "metadata": {},
   "outputs": [],
   "source": [
    "def plugboard(letter, plugs=None):\n",
    "    \n",
    "    # Test that only a letter is passed through\n",
    "    if letter.lower() not in alphabet:\n",
    "        raise Exception(\"Error! Only letters allowed.\")\n",
    "    else:\n",
    "        letter = letter.lower()\n",
    "        \n",
    "    if plugs == None:\n",
    "        return letter\n",
    "    \n",
    "    else:\n",
    "        # Test that the plugs are placed in an allowed way\n",
    "        if len(plugs[0]) > 10 or len(plugs[1]) > 10:\n",
    "            raise Exception(\"Error! The plugboard can not have more than 10 connections.\")\n",
    "        elif len(plugs[0]) != len(plugs[1]):\n",
    "            raise Exception(\"Error! Each letter must be connected with another one.\")\n",
    "        elif len(set(plugs[0] + plugs[1])) != len(plugs[0] + plugs[1]):\n",
    "            raise Exception(\"Error! A letter can only appear once.\")\n",
    "        else:\n",
    "        \n",
    "            plugs[0] = plugs[0].lower()\n",
    "            plugs[1] = plugs[1].lower()\n",
    "        \n",
    "            # Change the letters over\n",
    "            if letter in plugs[0]:\n",
    "                idx = plugs[0].index(letter)\n",
    "                return plugs[1][idx]\n",
    "\n",
    "            elif letter in plugs[1]:\n",
    "                idx = plugs[1].index(letter)\n",
    "                return plugs[0][idx]\n",
    "\n",
    "            else:\n",
    "                return letter"
   ]
  },
  {
   "cell_type": "code",
   "execution_count": 7,
   "metadata": {},
   "outputs": [],
   "source": [
    "def rotor(letter, rotor_letters, rotor_pos, direction):\n",
    "    \n",
    "    if direction == 'f':\n",
    "        idx = alphabet.index(letter)\n",
    "        idx = (idx + rotor_pos) % 26\n",
    "        return rotor_letters[idx]\n",
    "    \n",
    "    elif direction == 'b':\n",
    "        idx = rotor_letters.index(letter)\n",
    "        idx = (idx - rotor_pos + 26) % 26\n",
    "        return alphabet[idx]"
   ]
  },
  {
   "cell_type": "code",
   "execution_count": 8,
   "metadata": {},
   "outputs": [],
   "source": [
    "def reflector(letter, refl):\n",
    "    global alphabet\n",
    "    \n",
    "    idx = alphabet.index(letter)\n",
    "    return refl[idx]"
   ]
  },
  {
   "cell_type": "code",
   "execution_count": 9,
   "metadata": {},
   "outputs": [],
   "source": [
    "def enigma(text, rotors, plugs=None, rotor_positions=[0,0,0], ring_settings=[0,0,0]):\n",
    "    text = str(text.replace(' ','').lower())\n",
    "    \n",
    "    scrambled_text = ''\n",
    "    \n",
    "    rotor1_letters = rotors[0]\n",
    "    rotor1_pos = rotor_positions[0] + ring_settings[0]\n",
    "    rotor1_pos = rotor1_pos % 26\n",
    "    \n",
    "    rotor2_letters = rotors[1]\n",
    "    rotor2_pos = rotor_positions[1] + ring_settings[1]\n",
    "    rotor2_pos = rotor2_pos % 26\n",
    "    \n",
    "    rotor3_letters = rotors[2]\n",
    "    rotor3_pos = rotor_positions[2] + ring_settings[2]\n",
    "    rotor3_pos = rotor3_pos % 26\n",
    "    \n",
    "    refl = rotors[3]\n",
    "    \n",
    "    for letter in text:\n",
    "        \n",
    "        # The rotors move every time the button is pressed\n",
    "        rotor1_pos += 1\n",
    "        if rotor1_pos == ring_settings[0]:\n",
    "            rotor2_pos += 1\n",
    "            if rotor2_pos == ring_settings[1]:\n",
    "                rotor3_pos += 1\n",
    "                rotor3_pos = rotor3_pos % 26\n",
    "            rotor2_pos = rotor2_pos % 26 \n",
    "        rotor1_pos = rotor1_pos % 26\n",
    "        \n",
    "        # The letter travels through the plugboard and rotors,\n",
    "        # to the reflector and back again\n",
    "        letter = plugboard(letter, plugs)\n",
    "        letter = rotor(letter, rotor1_letters, rotor1_pos, 'f')\n",
    "        letter = rotor(letter, rotor2_letters, rotor2_pos, 'f')\n",
    "        letter = rotor(letter, rotor3_letters, rotor3_pos, 'f')\n",
    "        letter = reflector(letter, refl)\n",
    "        letter = rotor(letter, rotor3_letters, rotor3_pos, 'b')\n",
    "        letter = rotor(letter, rotor2_letters, rotor2_pos, 'b')\n",
    "        letter = rotor(letter, rotor1_letters, rotor1_pos, 'b')\n",
    "        letter = plugboard(letter, plugs) \n",
    "        scrambled_text = scrambled_text + letter\n",
    "            \n",
    "    return str(scrambled_text)"
   ]
  },
  {
   "cell_type": "code",
   "execution_count": 7,
   "metadata": {
    "scrolled": false
   },
   "outputs": [
    {
     "name": "stdout",
     "output_type": "stream",
     "text": [
      "bmzglzuyujhxntwfbhngeiiwqvfcakwrnrbxwokbfimygyjacxdwafquf\n",
      "whosthatgutlordmarchingyoushouldcutdownonyourporklifemate\n"
     ]
    }
   ],
   "source": [
    "text = 'whos that gut lord marching you should cut down on your pork life mate'\n",
    "\n",
    "X = enigma(text, rotors, plugs, rotor_positions, ring_settings)\n",
    "print(X)\n",
    "Y = enigma(X, rotors, plugs, rotor_positions, ring_settings)\n",
    "print(Y)\n",
    "\n",
    "# Test the result\n",
    "for i, x in enumerate(X):\n",
    "    if Y[i] != x:\n",
    "        continue\n",
    "    else:\n",
    "        raise Exception(\"A letter should never encrypt as itself\") "
   ]
  },
  {
   "cell_type": "code",
   "execution_count": null,
   "metadata": {},
   "outputs": [],
   "source": []
  }
 ],
 "metadata": {
  "kernelspec": {
   "display_name": "Python 3",
   "language": "python",
   "name": "python3"
  },
  "language_info": {
   "codemirror_mode": {
    "name": "ipython",
    "version": 3
   },
   "file_extension": ".py",
   "mimetype": "text/x-python",
   "name": "python",
   "nbconvert_exporter": "python",
   "pygments_lexer": "ipython3",
   "version": "3.7.10"
  }
 },
 "nbformat": 4,
 "nbformat_minor": 2
}
